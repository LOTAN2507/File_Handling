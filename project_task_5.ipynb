{
 "cells": [
  {
   "cell_type": "markdown",
   "id": "275918a6",
   "metadata": {},
   "source": [
    "# #Write a python programm for merge two excel file data to one file"
   ]
  },
  {
   "cell_type": "code",
   "execution_count": 7,
   "id": "fa4ab691",
   "metadata": {},
   "outputs": [],
   "source": [
    "import pandas as pd\n",
    "\n",
    "# Load the two Excel files\n",
    "file1 = pd.read_excel('file1.xlsx')\n",
    "file2 = pd.read_excel('file2.xlsx')\n",
    "# Merge the two files based on a common column\n",
    "merged_data = pd.merge(file1, file2, on='Employee ID')\n",
    "# Write the merged data to a new Excel file\n",
    "merged_data.to_excel('merged_data.xlsx', index=False)"
   ]
  },
  {
   "cell_type": "markdown",
   "id": "59191a40",
   "metadata": {},
   "source": [
    "# Make 40 random document File"
   ]
  },
  {
   "cell_type": "code",
   "execution_count": 8,
   "id": "41559436",
   "metadata": {},
   "outputs": [
    {
     "name": "stdout",
     "output_type": "stream",
     "text": [
      "Requirement already satisfied: natsort in c:\\users\\ghosh\\anaconda3\\lib\\site-packages (8.3.1)\n"
     ]
    }
   ],
   "source": [
    "import os\n",
    "import shutil\n",
    "import docx\n",
    "!pip install natsort\n",
    "from natsort import natsorted"
   ]
  },
  {
   "cell_type": "code",
   "execution_count": 9,
   "id": "e026b9a7",
   "metadata": {},
   "outputs": [],
   "source": [
    "##for run the code again you have to delete the privious directory\n",
    "shutil.rmtree(\"doc\")\n",
    "shutil.rmtree(\"Parent\")\n",
    "shutil.rmtree(\"duplicate\")\n",
    "##### comennt out this rmtree if the files are not there."
   ]
  },
  {
   "cell_type": "code",
   "execution_count": 10,
   "id": "a4ffdc39",
   "metadata": {},
   "outputs": [],
   "source": [
    "\n",
    "#make a directory for keeping 40 files\n",
    "os.mkdir(f\"doc\")\n",
    "for i in range(0,40):\n",
    "    doc = docx.Document()\n",
    "    paragraph=\"This is doc \"+str(i)\n",
    "    doc.add_paragraph(paragraph)\n",
    "    doc.save(f\"doc/doc{i+1}.docx\")\n",
    "\n"
   ]
  },
  {
   "cell_type": "markdown",
   "id": "24e25a72",
   "metadata": {},
   "source": [
    "# Write a python programm to shorting file in different folder means main folder containing 40 word file. Now after shorting create 4 child folder and store 10 file each folder."
   ]
  },
  {
   "cell_type": "code",
   "execution_count": 11,
   "id": "d8bac0c8",
   "metadata": {},
   "outputs": [],
   "source": [
    "\n",
    "\n",
    "# Define the path of the main directory\n",
    "main_dir = \"doc\"\n",
    "\n",
    "# Get a list of all the files in the main directory\n",
    "files = os.listdir(main_dir)\n",
    "\n",
    "# Sort the files alphabetical\n",
    "files_1=natsorted(files)\n",
    "#create another directory\n",
    "os.mkdir(f\"Parent\")\n",
    "result_dir=\"Parent\"\n",
    "# Create 4 subdirectories\n",
    "for i in range(4):\n",
    "    subdir_name = f\"Child_{i+1}\"\n",
    "    subdir_path = os.path.join(result_dir, subdir_name)\n",
    "    os.mkdir(subdir_path)\n",
    "    # Move 10 files to each subdirectory\n",
    "    for j in range(10):\n",
    "        file_name = files_1[i*10+j]\n",
    "        file_path = os.path.join(main_dir, file_name)\n",
    "        new_file_path = os.path.join(subdir_path, file_name)\n",
    "        shutil.move(file_path, new_file_path)"
   ]
  },
  {
   "cell_type": "markdown",
   "id": "9a75f92b",
   "metadata": {},
   "source": [
    "# Write a python programm separate duplicate file."
   ]
  },
  {
   "cell_type": "code",
   "execution_count": 12,
   "id": "345b8f84",
   "metadata": {},
   "outputs": [],
   "source": [
    "#make  file and duplicate file \n",
    "import os\n",
    "os.mkdir(f\"duplicate\")\n",
    "for i in range(0,10):\n",
    "    doc = docx.Document()\n",
    "    paragraph=\"This is doc \"+str(i)\n",
    "    doc.add_paragraph(paragraph)\n",
    "    doc.save(f\"duplicate/doc{i+1}.docx\")\n",
    "    \n",
    "for j in range(0,10):\n",
    "    shutil.copy(f'duplicate/doc{j+1}.docx', f'duplicate/duplicate_doc{j+1}.docx')\n",
    "    "
   ]
  },
  {
   "cell_type": "code",
   "execution_count": 13,
   "id": "65e7bf9b",
   "metadata": {},
   "outputs": [
    {
     "name": "stdout",
     "output_type": "stream",
     "text": [
      "Duplicate file found: duplicate_doc1.docx\n",
      "Duplicate file found: duplicate_doc10.docx\n",
      "Duplicate file found: duplicate_doc2.docx\n",
      "Duplicate file found: duplicate_doc3.docx\n",
      "Duplicate file found: duplicate_doc4.docx\n",
      "Duplicate file found: duplicate_doc5.docx\n",
      "Duplicate file found: duplicate_doc6.docx\n",
      "Duplicate file found: duplicate_doc7.docx\n",
      "Duplicate file found: duplicate_doc8.docx\n",
      "Duplicate file found: duplicate_doc9.docx\n"
     ]
    }
   ],
   "source": [
    "import hashlib\n",
    "# Define the path of the directory to search for duplicates\n",
    "directory = \"duplicate\"\n",
    "\n",
    "# Define the path of the directory to move duplicate files to\n",
    "duplicates_directory = os.path.join(directory, \"duplicates_files\")\n",
    "os.makedirs(duplicates_directory, exist_ok=True)\n",
    "\n",
    "# Define a dictionary to store the file hashes and paths\n",
    "file_hashes = {}\n",
    "\n",
    "# Iterate through all the files in the directory\n",
    "for filename in os.listdir(directory):\n",
    "    filepath = os.path.join(directory, filename)\n",
    "\n",
    "    # Ignore directories and hidden files\n",
    "    if os.path.isdir(filepath) or filename.startswith(\".\"):\n",
    "        continue\n",
    "\n",
    "    # Calculate the SHA256 hash of the file\n",
    "    with open(filepath, \"rb\") as f:\n",
    "        file_hash = hashlib.sha256(f.read()).hexdigest()\n",
    "\n",
    "    # Check if the hash is already in the dictionary\n",
    "    if file_hash in file_hashes:\n",
    "        # Move the duplicate file to the duplicates directory\n",
    "        print(f\"Duplicate file found: {filename}\")\n",
    "        new_filepath = os.path.join(duplicates_directory, filename)\n",
    "        shutil.move(filepath, new_filepath)\n",
    "    else:\n",
    "        # Add the hash and path to the dictionary\n",
    "        file_hashes[file_hash] = filepath"
   ]
  },
  {
   "cell_type": "markdown",
   "id": "71d18c3c",
   "metadata": {},
   "source": [
    "# Check with mobile number in main excel file and test data  doc and if it is same or equal create sperate file and store duplicate file data"
   ]
  },
  {
   "cell_type": "code",
   "execution_count": 14,
   "id": "207032cc",
   "metadata": {},
   "outputs": [
    {
     "name": "stdout",
     "output_type": "stream",
     "text": [
      "Duplicate data found and stored in separate file.\n"
     ]
    }
   ],
   "source": [
    "import pandas as pd\n",
    "import docx\n",
    "# Define the path of the main Excel file\n",
    "main_excel_path = \"main_excel_file.xlsx\"\n",
    "\n",
    "# Define the path of the test data document\n",
    "test_data_path = \"test_data_document.docx\"\n",
    "\n",
    "# Define the path of the file to store the duplicate data\n",
    "duplicate_data_path = \"duplicate_data.xlsx\"\n",
    "\n",
    "# Read the main Excel file into a pandas DataFrame\n",
    "main_df = pd.read_excel(main_excel_path)\n",
    "\n",
    "# Read the test data document into a pandas DataFrame\n",
    "doc = docx.Document(test_data_path)\n",
    "df=[]\n",
    "for para in doc.paragraphs:\n",
    "    # Print the text content of the paragraph\n",
    "    #print(para.text)\n",
    "    df.append(para.text)\n",
    "    \n",
    "test_df=list(df)\n",
    "\n",
    "# Get a DataFrame of duplicate mobile numbers from the test DataFrame\n",
    "df1= main_df[main_df[\"Mobile Number\"].isin(test_df)]\n",
    "duplicate_mobile_numbers = df1[['First Name','Mobile Number']]\n",
    "# Check if there are any duplicate mobile numbers\n",
    "if len(duplicate_mobile_numbers) > 0:\n",
    "    # Create a new Excel file to store the duplicate data\n",
    "    duplicate_data = pd.ExcelWriter(duplicate_data_path)\n",
    "\n",
    "    # Write the duplicate data to the new Excel file\n",
    "    duplicate_mobile_numbers.to_excel(duplicate_data, index=False)\n",
    "\n",
    "    # Save and close the new Excel file\n",
    "    duplicate_data.save()\n",
    "    \n",
    "    print(\"Duplicate data found and stored in separate file.\")\n",
    "else:\n",
    "    print(\"No duplicate data found.\")"
   ]
  },
  {
   "cell_type": "markdown",
   "id": "30fa7f06",
   "metadata": {},
   "source": [
    "# Write a python programm for Shorting file by keywords.\n",
    "input: folder path = text value\n",
    "Create new folder=text value\n",
    "Search Keyword= text value\n",
    "Output: Create folder with input value and inside folder all shorting files displaying."
   ]
  },
  {
   "cell_type": "code",
   "execution_count": 15,
   "id": "29578910",
   "metadata": {},
   "outputs": [],
   "source": [
    "##########################################################################\n",
    "#Make 50 doc file\n",
    "import os\n",
    "import docx\n",
    "#os.mkdir(f\"Main_folder\")\n",
    "for i in range(0,50):\n",
    "    doc = docx.Document()\n",
    "    paragraph=\"This is doc \"+str(i)\n",
    "    doc.add_paragraph(paragraph)\n",
    "    doc.save(f\"Main_folder/doc{i+1}.docx\")"
   ]
  },
  {
   "cell_type": "code",
   "execution_count": 16,
   "id": "dc5beb49",
   "metadata": {},
   "outputs": [
    {
     "name": "stdout",
     "output_type": "stream",
     "text": [
      "Enter directory to search for files : Main_folder\n",
      "name of the new folder to create:new_folder2\n",
      "Enter file name: doc2.docx\n",
      "File found: doc2.docx\n"
     ]
    }
   ],
   "source": [
    "import os\n",
    "import shutil\n",
    "\n",
    "\n",
    "# Define the path of the directory to search for files\n",
    "folder_path = input(\"Enter directory to search for files : \")\n",
    "\n",
    "# Define the name of the new folder to create\n",
    "new_folder_name = input(\"name of the new folder to create:\")\n",
    "\n",
    "# Define the keyword to search for\n",
    "search_keyword = input(\"Enter file name: \") \n",
    "\n",
    "# Create the new folder\n",
    "new_folder_path = os.path.join(folder_path, new_folder_name)\n",
    "os.makedirs(new_folder_path, exist_ok=True)\n",
    "\n",
    "# Iterate through all the files in the directory\n",
    "for filename in os.listdir(folder_path):\n",
    "    filepath = os.path.join(folder_path, filename)\n",
    "\n",
    "    # Ignore directories and hidden files\n",
    "    if os.path.isdir(filepath) or filename.startswith(\".\"):\n",
    "        continue\n",
    "\n",
    "    # Check if the keyword is in the filename\n",
    "    if search_keyword in filename:\n",
    "        # Move the matching file to the new folder\n",
    "        print(f\"File found: {filename}\")\n",
    "        new_filepath = os.path.join(new_folder_path, filename)\n",
    "        shutil.move(filepath, new_filepath)"
   ]
  }
 ],
 "metadata": {
  "kernelspec": {
   "display_name": "Python 3 (ipykernel)",
   "language": "python",
   "name": "python3"
  },
  "language_info": {
   "codemirror_mode": {
    "name": "ipython",
    "version": 3
   },
   "file_extension": ".py",
   "mimetype": "text/x-python",
   "name": "python",
   "nbconvert_exporter": "python",
   "pygments_lexer": "ipython3",
   "version": "3.9.13"
  }
 },
 "nbformat": 4,
 "nbformat_minor": 5
}
